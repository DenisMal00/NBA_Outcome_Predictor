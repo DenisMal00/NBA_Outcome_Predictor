{
 "cells": [
  {
   "cell_type": "markdown",
   "metadata": {
    "id": "eL4L5wcuYBCZ"
   },
   "source": [
    "# Nuova sezione"
   ]
  },
  {
   "cell_type": "code",
   "execution_count": null,
   "metadata": {
    "id": "mB05PVdMHX7r"
   },
   "outputs": [],
   "source": [
    "import pandas as pd\n",
    "\n",
    "df = pd.read_csv('games_final.csv')\n",
    "tm = pd.read_csv('teams.csv')\n",
    "#df = df.dropna()"
   ]
  },
  {
   "cell_type": "code",
   "execution_count": null,
   "metadata": {
    "id": "GIRE-zNKId9x"
   },
   "outputs": [],
   "source": [
    "df.sort_values(by = 'GAME_DATE_EST', inplace = True)\n",
    "df.reset_index(inplace=True, drop = True)\n",
    "df\n"
   ]
  },
  {
   "cell_type": "markdown",
   "metadata": {
    "id": "tYato-HzYzs6"
   },
   "source": [
    "ASSEGNA ID AL NOME DELLA SQUADRA"
   ]
  },
  {
   "cell_type": "code",
   "execution_count": null,
   "metadata": {
    "id": "-9aMG78yXUGt"
   },
   "outputs": [],
   "source": [
    "id=tm['TEAM_ID']\n",
    "name=tm['ABBREVIATION']\n",
    "dict={}\n",
    "for i in range(0,30):\n",
    "  dict[id[i]]=name[i]\n",
    "df[\"HOME_TEAM\"] = df[\"HOME_TEAM_ID\"].map(dict)"
   ]
  },
  {
   "cell_type": "code",
   "execution_count": null,
   "metadata": {
    "id": "KytIRN-mYQgQ"
   },
   "outputs": [],
   "source": [
    "df[\"VISITOR_TEAM\"] = df[\"VISITOR_TEAM_ID\"].map(dict)"
   ]
  },
  {
   "cell_type": "markdown",
   "metadata": {},
   "source": [
    "Creazione nuove colonne"
   ]
  },
  {
   "cell_type": "code",
   "execution_count": null,
   "metadata": {},
   "outputs": [],
   "source": [
    "df.insert(4,'HOME_TEAM','',True)\n",
    "df.insert(5,'H_ELO_BEFORE','',True)\n",
    "df.insert(6,'H_ELO_AFTER','',True)\n",
    "df.insert(7,'Win_Streak_H','',True)\n",
    "df.insert(8,'Win_last_10_H','',True)\n",
    "df.insert(9,'Avg_points_last_10_H','',True)\n",
    "df.insert(11,'VISITOR_TEAM','',True)\n",
    "df.insert(12,'V_ELO_BEFORE','',True)\n",
    "df.insert(13,'V_ELO_AFTER','',True)\n",
    "df.insert(14,'Win_Streak_V','',True)\n",
    "df.insert(15,'Win_last_10_V','',True)\n",
    "df.insert(16,'Avg_points_last_10_V','',True)"
   ]
  },
  {
   "cell_type": "markdown",
   "metadata": {
    "id": "tvXdw5Hb9ef3"
   },
   "source": [
    "Calcolo ELO"
   ]
  },
  {
   "cell_type": "code",
   "execution_count": null,
   "metadata": {
    "id": "TAWO9f2XG9C4"
   },
   "outputs": [],
   "source": [
    "import math\n",
    "def win_probs(home_elo, away_elo, home_court_advantage) :\n",
    "  h = math.pow(10, home_elo/400)\n",
    "  r = math.pow(10, away_elo/400)\n",
    "  a = math.pow(10, home_court_advantage/400) \n",
    "\n",
    "  denom = r + a*h\n",
    "  home_prob = a*h / denom\n",
    "  away_prob = r / denom \n",
    "  \n",
    "  return home_prob, away_prob\n",
    "def elo_k(MOV, elo_diff):\n",
    "  k = 20\n",
    "  if MOV>0:\n",
    "      multiplier=(MOV+3)**(0.8)/(7.5+0.006*(elo_diff))\n",
    "  else:\n",
    "      multiplier=(-MOV+3)**(0.8)/(7.5+0.006*(-elo_diff))\n",
    "  return k*multiplier\n",
    "\n",
    "def update_elo(home_score, away_score, home_elo, away_elo,home_court_advantage) :\n",
    "  home_prob, away_prob = win_probs(home_elo, away_elo, home_court_advantage) \n",
    "\n",
    "  if (home_score - away_score > 0) :\n",
    "    home_win = 1 \n",
    "    away_win = 0 \n",
    "  else :\n",
    "    home_win = 0 \n",
    "    away_win = 1 \n",
    "  \n",
    "  k = elo_k(home_score - away_score, home_elo - away_elo)\n",
    "  #k=20\n",
    "  updated_home_elo = home_elo + k * (home_win - home_prob) \n",
    "  updated_away_elo = away_elo + k * (away_win - away_prob)\n",
    "\n",
    "  return updated_home_elo, updated_away_elo\n",
    "\n"
   ]
  },
  {
   "cell_type": "markdown",
   "metadata": {
    "id": "aBmRi2AQSqvQ"
   },
   "source": [
    "Inseriamo ELO nel dataframe"
   ]
  },
  {
   "cell_type": "code",
   "execution_count": null,
   "metadata": {
    "id": "3GbegvsBZpG2"
   },
   "outputs": [],
   "source": [
    "def get_prev_elo(team, date, season) :\n",
    "  prev_game = df.loc[(df['GAME_DATE_EST'] < date) & ((df['HOME_TEAM_ID'] == team) | (df['VISITOR_TEAM_ID'] == team))].sort_values(by = 'GAME_DATE_EST').tail(1).iloc[0]\n",
    "  if team == prev_game['HOME_TEAM_ID'] :\n",
    "    elo_rating = prev_game['H_ELO_AFTER']\n",
    "  else :\n",
    "    elo_rating = prev_game['V_ELO_AFTER']\n",
    "  if prev_game['SEASON'] != season :\n",
    "    return (0.75 * elo_rating) + (0.25 * 1505)\n",
    "  else :\n",
    "    return elo_rating\n",
    "\n",
    "\n",
    "df.sort_values(by = 'GAME_DATE_EST', inplace = True)\n",
    "df.reset_index(inplace=True, drop = True)\n",
    "teams=[]\n",
    "\n",
    "for index, row in df.iterrows():\n",
    "  game_id = row['GAME_ID']\n",
    "  game_date = row['GAME_DATE_EST']\n",
    "  season = int(row['SEASON'])\n",
    "  h_team, a_team = int(row['HOME_TEAM_ID']), int(row['VISITOR_TEAM_ID'])\n",
    "  h_score, a_score = int(row['PTS_home']), int(row['PTS_away'])\n",
    "  if (h_team not in teams) :\n",
    "    h_elo_before = 1500\n",
    "    teams.append(h_team)\n",
    "  else :\n",
    "    h_elo_before = get_prev_elo(h_team, game_date, season)\n",
    "\n",
    "  if (a_team not in teams) :\n",
    "    a_elo_before = 1500\n",
    "    teams.append(a_team)\n",
    "  else :\n",
    "    a_elo_before = get_prev_elo(a_team, game_date, season)\n",
    "\n",
    "  h_elo_after, a_elo_after = update_elo(h_score, a_score, h_elo_before, a_elo_before, 100)\n",
    "  df.iloc[index,5]=h_elo_before\n",
    "  df.iloc[index,6]=h_elo_after\n",
    "  df.iloc[index,12]=a_elo_before\n",
    "  df.iloc[index,13]=a_elo_after\n",
    "  print(index)"
   ]
  },
  {
   "cell_type": "markdown",
   "metadata": {
    "id": "R2j3Rq75yYPq"
   },
   "source": [
    "inserisco i dati delle ultime 10 partite"
   ]
  },
  {
   "cell_type": "code",
   "execution_count": null,
   "metadata": {
    "id": "Sp8QqsAvr_KR"
   },
   "outputs": [],
   "source": [
    "def get_prev_games(team, date) :\n",
    "  wins_streak=0\n",
    "  wins=0\n",
    "  mean_points=0\n",
    "  prev_games = df.loc[(df['GAME_DATE_EST'] < date) & ((df['HOME_TEAM_ID'] == team) | (df['VISITOR_TEAM_ID'] == team))].sort_values(by = 'GAME_DATE_EST').tail(10)\n",
    "  prev_games.sort_values(by = 'GAME_DATE_EST',inplace=True)\n",
    "  for index,row in prev_games.iterrows():\n",
    "    if team == row['HOME_TEAM_ID']:\n",
    "      mean_points= mean_points + row['PTS_home']\n",
    "      if row['HOME_TEAM_WINS'] == 1:\n",
    "        wins_streak=wins_streak + 1\n",
    "        wins=wins+1\n",
    "      else:\n",
    "        wins_streak=0\n",
    "    else:\n",
    "      mean_points= mean_points + row['PTS_away']\n",
    "      if row['HOME_TEAM_WINS'] == 1:\n",
    "        wins_streak=0\n",
    "      else:\n",
    "        wins_streak=wins_streak+1\n",
    "        wins=wins+1\n",
    "  if mean_points != 0:\n",
    "     mean_points= mean_points / len(prev_games)\n",
    "  return wins_streak,wins,mean_points\n",
    "\n",
    "\n",
    "\n",
    "for index, row in df.iterrows():\n",
    "  game_date = row['GAME_DATE_EST']\n",
    "  h_team, a_team = int(row['HOME_TEAM_ID']), int(row['VISITOR_TEAM_ID'])\n",
    "  \n",
    "  win_s,win,avg_p = get_prev_games(h_team,game_date)\n",
    "  df.iloc[index,7]=win_s\n",
    "  df.iloc[index,8]=win\n",
    "  df.iloc[index,9]=avg_p\n",
    "  win_s,win,avg_p = get_prev_games(a_team,game_date)\n",
    "  df.iloc[index,14]=win_s\n",
    "  df.iloc[index,15]=win\n",
    "  df.iloc[index,16]=avg_p\n",
    "  print(index)\n",
    "\n",
    "\n"
   ]
  },
  {
   "cell_type": "markdown",
   "metadata": {
    "id": "7xYDQes-ygXO"
   },
   "source": [
    "Prediction"
   ]
  },
  {
   "cell_type": "code",
   "execution_count": null,
   "metadata": {
    "id": "8X8bsQ5Ruu7H"
   },
   "outputs": [],
   "source": [
    "#cols = [1,2,3,5,6,7]\n",
    "#df.drop(df.columns[cols],axis=1, inplace=True)"
   ]
  },
  {
   "cell_type": "code",
   "execution_count": null,
   "metadata": {
    "id": "J4bDQR6Mb4RH"
   },
   "outputs": [],
   "source": [
    "df=df.drop('Unnamed: 0', axis=1)\n",
    "cols = [0,1,2,3,4,6,10,11,13,17,18,19,20,21,22,23,24,25,26,27,28,29,30,31]\n",
    "df.drop(df.columns[cols],axis=1, inplace=True)"
   ]
  },
  {
   "cell_type": "code",
   "execution_count": null,
   "metadata": {
    "id": "veXh5GD5aLt7"
   },
   "outputs": [],
   "source": [
    "features = df.drop(columns = 'HOME_TEAM_WINS')\n",
    "label = df['HOME_TEAM_WINS']\n",
    "\n",
    "from sklearn.model_selection import train_test_split\n",
    "x_train, x_test, y_train, y_test = train_test_split(features, label, test_size = 0.2, shuffle = True)"
   ]
  },
  {
   "cell_type": "code",
   "execution_count": null,
   "metadata": {
    "id": "VmoTdSOcheGq"
   },
   "outputs": [],
   "source": [
    "features"
   ]
  },
  {
   "cell_type": "code",
   "execution_count": null,
   "metadata": {
    "colab": {
     "base_uri": "https://localhost:8080/"
    },
    "id": "jqJlyJz2bIMK",
    "outputId": "9085462b-86f4-49a5-efee-c20c3f9f6c60"
   },
   "outputs": [],
   "source": [
    "from sklearn.ensemble import RandomForestClassifier\n",
    "from sklearn import metrics\n",
    "\n",
    "rf = RandomForestClassifier(random_state=42, max_features='sqrt')\n",
    "rf.fit(x_train, y_train)\n",
    "y_pred_rf = rf.predict(x_test)\n",
    "print(metrics.accuracy_score(y_test, y_pred_rf))\n",
    "\n",
    "from pprint import pprint\n",
    "# Look at parameters used by our current forest\n",
    "print('Parameters currently in use:\\n')\n",
    "pprint(rf.get_params())"
   ]
  },
  {
   "cell_type": "code",
   "execution_count": null,
   "metadata": {
    "id": "4vMxTdsuyifj"
   },
   "outputs": [],
   "source": [
    "from sklearn import svm\n",
    "from sklearn import metrics\n",
    "from sklearn.model_selection import KFold,train_test_split,cross_val_score\n",
    "\n",
    "#Create a svm Classifier\n",
    "clf = svm.SVC(kernel='rbf') # gaussian Kernel\n",
    "\n",
    "kfold = KFold(n_splits=10, random_state=1,shuffle=True)\n",
    "\n",
    "results = cross_val_score(clf, features, label, cv=kfold,scoring='accuracy')\n",
    "\n",
    "#Train the model using the training sets\n",
    "#clf.fit(x_train, y_train)\n",
    "\n",
    "#Predict the response for test dataset\n",
    "#y_pred = clf.predict(x_test)\n",
    "\n",
    "#print(\"Accuracy:\",metrics.accuracy_score(y_test, y_pred))\n",
    "\n"
   ]
  },
  {
   "cell_type": "code",
   "execution_count": null,
   "metadata": {
    "colab": {
     "base_uri": "https://localhost:8080/"
    },
    "id": "y3O2G9sf2zCt",
    "outputId": "aa00e65b-1748-423f-87e8-b3caa43a1c64"
   },
   "outputs": [],
   "source": [
    "results"
   ]
  },
  {
   "cell_type": "code",
   "execution_count": null,
   "metadata": {
    "colab": {
     "base_uri": "https://localhost:8080/"
    },
    "id": "BR9bMKJgZoCB",
    "outputId": "3d19cc67-1914-490c-ccb4-c6a5d9f81b35"
   },
   "outputs": [],
   "source": [
    "import statistics \n",
    "media=statistics.mean(results)\n",
    "dev_st=statistics.stdev(results)\n",
    "print(media,dev_st)"
   ]
  },
  {
   "cell_type": "code",
   "execution_count": null,
   "metadata": {
    "colab": {
     "base_uri": "https://localhost:8080/"
    },
    "id": "rZL-bNWB68Zw",
    "outputId": "150b191d-02d9-42bf-ed1c-8a01de75177f"
   },
   "outputs": [],
   "source": [
    "import statistics \n",
    "media=statistics.mean(results)\n",
    "dev_st=statistics.stdev(results)\n",
    "print(media,dev_st)"
   ]
  },
  {
   "cell_type": "code",
   "execution_count": null,
   "metadata": {
    "colab": {
     "base_uri": "https://localhost:8080/"
    },
    "id": "joeDQBG9758a",
    "outputId": "e105e659-854b-4ea9-cee0-4fea84198517"
   },
   "outputs": [],
   "source": [
    "gammas = [0.1,0.2,0.4,0.6,0.8,1,1.2,1.4,1.6,1.8,2]\n",
    "for gamma in gammas:\n",
    "  svc = svm.SVC(kernel='rbf', gamma=gamma).fit(x_train, y_train)\n",
    "  y_pred = svc.predict(x_test)\n",
    "  print(\"Accuracy:\",metrics.accuracy_score(y_test, y_pred))\n"
   ]
  },
  {
   "cell_type": "code",
   "execution_count": null,
   "metadata": {
    "colab": {
     "base_uri": "https://localhost:8080/"
    },
    "id": "zxAe7-ze9Vzw",
    "outputId": "c29d9aef-d359-481e-e2ce-56dcfc07889a"
   },
   "outputs": [],
   "source": [
    "cs = [1,1.4]\n",
    "for c in cs:\n",
    "  svc = svm.SVC(kernel='rbf', C=c).fit(x_train, y_train)\n",
    "  y_pred = svc.predict(x_test)\n",
    "  print(\"Accuracy:\",metrics.accuracy_score(y_test, y_pred))"
   ]
  }
 ],
 "metadata": {
  "colab": {
   "collapsed_sections": [
    "dTUfap0RrvKD",
    "Xm-uMx9BMJYa",
    "dYpalektMymP"
   ],
   "provenance": []
  },
  "kernelspec": {
   "display_name": "Python 3 (ipykernel)",
   "language": "python",
   "name": "python3"
  },
  "language_info": {
   "codemirror_mode": {
    "name": "ipython",
    "version": 3
   },
   "file_extension": ".py",
   "mimetype": "text/x-python",
   "name": "python",
   "nbconvert_exporter": "python",
   "pygments_lexer": "ipython3",
   "version": "3.11.5"
  }
 },
 "nbformat": 4,
 "nbformat_minor": 1
}
